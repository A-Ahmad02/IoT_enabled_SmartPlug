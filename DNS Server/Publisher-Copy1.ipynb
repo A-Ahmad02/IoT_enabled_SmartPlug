{
 "cells": [
  {
   "cell_type": "code",
   "execution_count": 40,
   "id": "8332c93e",
   "metadata": {},
   "outputs": [
    {
     "name": "stdout",
     "output_type": "stream",
     "text": [
      "Collecting pysocks==1.7.0\n",
      "  Downloading PySocks-1.7.0-py3-none-any.whl.metadata (13 kB)\n",
      "Downloading PySocks-1.7.0-py3-none-any.whl (16 kB)\n",
      "Installing collected packages: pysocks\n",
      "  Attempting uninstall: pysocks\n",
      "    Found existing installation: PySocks 1.7.1\n",
      "    Uninstalling PySocks-1.7.1:\n",
      "      Successfully uninstalled PySocks-1.7.1\n",
      "Successfully installed pysocks-1.7.0\n"
     ]
    }
   ],
   "source": [
    "# !pip install paho-mqtt\n",
    "# !pip install dnslib\n",
    "# !pip install dnspython\n",
    "# !python -m pip install --upgrade pip\n",
    "!pip3 install pysocks==1.7.0"
   ]
  },
  {
   "cell_type": "markdown",
   "id": "fc0bdfea",
   "metadata": {},
   "source": [
    "# Publisher"
   ]
  },
  {
   "cell_type": "code",
   "execution_count": 1,
   "id": "3e82e00e",
   "metadata": {},
   "outputs": [],
   "source": [
    "from http.server import SimpleHTTPRequestHandler\n",
    "from socketserver import TCPServer\n",
    "import json\n",
    "import paho.mqtt.client as mqtt\n",
    "import time\n",
    "import os\n"
   ]
  },
  {
   "cell_type": "code",
   "execution_count": 5,
   "id": "69b2c9c4",
   "metadata": {},
   "outputs": [
    {
     "name": "stderr",
     "output_type": "stream",
     "text": [
      "C:\\Users\\Lenovo\\AppData\\Local\\Temp\\ipykernel_17248\\521666475.py:3: DeprecationWarning: Callback API version 1 is deprecated, update to latest version\n",
      "  client = mqtt.Client()\n"
     ]
    },
    {
     "ename": "ProxyConnectionError",
     "evalue": "Error connecting to HTTP proxy 192.168.10.13:8222: [WinError 10061] No connection could be made because the target machine actively refused it",
     "output_type": "error",
     "traceback": [
      "\u001b[1;31m---------------------------------------------------------------------------\u001b[0m",
      "\u001b[1;31mConnectionRefusedError\u001b[0m                    Traceback (most recent call last)",
      "File \u001b[1;32mc:\\users\\lenovo\\appdata\\local\\programs\\python\\python38\\lib\\site-packages\\socks.py:787\u001b[0m, in \u001b[0;36msocksocket.connect\u001b[1;34m(self, dest_pair, catch_errors)\u001b[0m\n\u001b[0;32m    785\u001b[0m \u001b[38;5;28;01mtry\u001b[39;00m:\n\u001b[0;32m    786\u001b[0m     \u001b[38;5;66;03m# Initial connection to proxy server.\u001b[39;00m\n\u001b[1;32m--> 787\u001b[0m     \u001b[38;5;28;43msuper\u001b[39;49m\u001b[43m(\u001b[49m\u001b[43msocksocket\u001b[49m\u001b[43m,\u001b[49m\u001b[43m \u001b[49m\u001b[38;5;28;43mself\u001b[39;49m\u001b[43m)\u001b[49m\u001b[38;5;241;43m.\u001b[39;49m\u001b[43mconnect\u001b[49m\u001b[43m(\u001b[49m\u001b[43mproxy_addr\u001b[49m\u001b[43m)\u001b[49m\n\u001b[0;32m    789\u001b[0m \u001b[38;5;28;01mexcept\u001b[39;00m socket\u001b[38;5;241m.\u001b[39merror \u001b[38;5;28;01mas\u001b[39;00m error:\n\u001b[0;32m    790\u001b[0m     \u001b[38;5;66;03m# Error while connecting to proxy\u001b[39;00m\n",
      "\u001b[1;31mConnectionRefusedError\u001b[0m: [WinError 10061] No connection could be made because the target machine actively refused it",
      "\nDuring handling of the above exception, another exception occurred:\n",
      "\u001b[1;31mProxyConnectionError\u001b[0m                      Traceback (most recent call last)",
      "Input \u001b[1;32mIn [5]\u001b[0m, in \u001b[0;36m<cell line: 9>\u001b[1;34m()\u001b[0m\n\u001b[0;32m      7\u001b[0m socket\u001b[38;5;241m.\u001b[39msocket \u001b[38;5;241m=\u001b[39m socks\u001b[38;5;241m.\u001b[39msocksocket\n\u001b[0;32m      8\u001b[0m \u001b[38;5;66;03m# connect\u001b[39;00m\n\u001b[1;32m----> 9\u001b[0m \u001b[43mclient\u001b[49m\u001b[38;5;241;43m.\u001b[39;49m\u001b[43mconnect\u001b[49m\u001b[43m(\u001b[49m\u001b[38;5;124;43m'\u001b[39;49m\u001b[38;5;124;43mabc.com\u001b[39;49m\u001b[38;5;124;43m'\u001b[39;49m\u001b[43m,\u001b[49m\u001b[43m \u001b[49m\u001b[43mport\u001b[49m\u001b[38;5;241;43m=\u001b[39;49m\u001b[38;5;241;43m8080\u001b[39;49m\u001b[43m,\u001b[49m\u001b[43m \u001b[49m\u001b[43mkeepalive\u001b[49m\u001b[38;5;241;43m=\u001b[39;49m\u001b[38;5;241;43m60\u001b[39;49m\u001b[43m,\u001b[49m\u001b[43m \u001b[49m\u001b[43mbind_address\u001b[49m\u001b[38;5;241;43m=\u001b[39;49m\u001b[38;5;124;43m\"\u001b[39;49m\u001b[38;5;124;43m\"\u001b[39;49m\u001b[43m)\u001b[49m\n\u001b[0;32m     10\u001b[0m client\u001b[38;5;241m.\u001b[39mloop_forever()\n",
      "File \u001b[1;32mc:\\users\\lenovo\\appdata\\local\\programs\\python\\python38\\lib\\site-packages\\paho\\mqtt\\client.py:1435\u001b[0m, in \u001b[0;36mClient.connect\u001b[1;34m(self, host, port, keepalive, bind_address, bind_port, clean_start, properties)\u001b[0m\n\u001b[0;32m   1431\u001b[0m         \u001b[38;5;28;01mraise\u001b[39;00m \u001b[38;5;167;01mValueError\u001b[39;00m(\u001b[38;5;124m\"\u001b[39m\u001b[38;5;124mProperties only apply to MQTT V5\u001b[39m\u001b[38;5;124m\"\u001b[39m)\n\u001b[0;32m   1433\u001b[0m \u001b[38;5;28mself\u001b[39m\u001b[38;5;241m.\u001b[39mconnect_async(host, port, keepalive,\n\u001b[0;32m   1434\u001b[0m                    bind_address, bind_port, clean_start, properties)\n\u001b[1;32m-> 1435\u001b[0m \u001b[38;5;28;01mreturn\u001b[39;00m \u001b[38;5;28;43mself\u001b[39;49m\u001b[38;5;241;43m.\u001b[39;49m\u001b[43mreconnect\u001b[49m\u001b[43m(\u001b[49m\u001b[43m)\u001b[49m\n",
      "File \u001b[1;32mc:\\users\\lenovo\\appdata\\local\\programs\\python\\python38\\lib\\site-packages\\paho\\mqtt\\client.py:1598\u001b[0m, in \u001b[0;36mClient.reconnect\u001b[1;34m(self)\u001b[0m\n\u001b[0;32m   1595\u001b[0m         \u001b[38;5;28;01mif\u001b[39;00m \u001b[38;5;129;01mnot\u001b[39;00m \u001b[38;5;28mself\u001b[39m\u001b[38;5;241m.\u001b[39msuppress_exceptions:\n\u001b[0;32m   1596\u001b[0m             \u001b[38;5;28;01mraise\u001b[39;00m\n\u001b[1;32m-> 1598\u001b[0m \u001b[38;5;28mself\u001b[39m\u001b[38;5;241m.\u001b[39m_sock \u001b[38;5;241m=\u001b[39m \u001b[38;5;28;43mself\u001b[39;49m\u001b[38;5;241;43m.\u001b[39;49m\u001b[43m_create_socket\u001b[49m\u001b[43m(\u001b[49m\u001b[43m)\u001b[49m\n\u001b[0;32m   1600\u001b[0m \u001b[38;5;28mself\u001b[39m\u001b[38;5;241m.\u001b[39m_sock\u001b[38;5;241m.\u001b[39msetblocking(\u001b[38;5;28;01mFalse\u001b[39;00m)  \u001b[38;5;66;03m# type: ignore[attr-defined]\u001b[39;00m\n\u001b[0;32m   1601\u001b[0m \u001b[38;5;28mself\u001b[39m\u001b[38;5;241m.\u001b[39m_registered_write \u001b[38;5;241m=\u001b[39m \u001b[38;5;28;01mFalse\u001b[39;00m\n",
      "File \u001b[1;32mc:\\users\\lenovo\\appdata\\local\\programs\\python\\python38\\lib\\site-packages\\paho\\mqtt\\client.py:4609\u001b[0m, in \u001b[0;36mClient._create_socket\u001b[1;34m(self)\u001b[0m\n\u001b[0;32m   4607\u001b[0m     sock \u001b[38;5;241m=\u001b[39m \u001b[38;5;28mself\u001b[39m\u001b[38;5;241m.\u001b[39m_create_unix_socket_connection()\n\u001b[0;32m   4608\u001b[0m \u001b[38;5;28;01melse\u001b[39;00m:\n\u001b[1;32m-> 4609\u001b[0m     sock \u001b[38;5;241m=\u001b[39m \u001b[38;5;28;43mself\u001b[39;49m\u001b[38;5;241;43m.\u001b[39;49m\u001b[43m_create_socket_connection\u001b[49m\u001b[43m(\u001b[49m\u001b[43m)\u001b[49m\n\u001b[0;32m   4611\u001b[0m \u001b[38;5;28;01mif\u001b[39;00m \u001b[38;5;28mself\u001b[39m\u001b[38;5;241m.\u001b[39m_ssl:\n\u001b[0;32m   4612\u001b[0m     sock \u001b[38;5;241m=\u001b[39m \u001b[38;5;28mself\u001b[39m\u001b[38;5;241m.\u001b[39m_ssl_wrap_socket(sock)\n",
      "File \u001b[1;32mc:\\users\\lenovo\\appdata\\local\\programs\\python\\python38\\lib\\site-packages\\paho\\mqtt\\client.py:4638\u001b[0m, in \u001b[0;36mClient._create_socket_connection\u001b[1;34m(self)\u001b[0m\n\u001b[0;32m   4635\u001b[0m source \u001b[38;5;241m=\u001b[39m (\u001b[38;5;28mself\u001b[39m\u001b[38;5;241m.\u001b[39m_bind_address, \u001b[38;5;28mself\u001b[39m\u001b[38;5;241m.\u001b[39m_bind_port)\n\u001b[0;32m   4637\u001b[0m \u001b[38;5;28;01mif\u001b[39;00m proxy:\n\u001b[1;32m-> 4638\u001b[0m     \u001b[38;5;28;01mreturn\u001b[39;00m \u001b[43msocks\u001b[49m\u001b[38;5;241;43m.\u001b[39;49m\u001b[43mcreate_connection\u001b[49m\u001b[43m(\u001b[49m\u001b[43maddr\u001b[49m\u001b[43m,\u001b[49m\u001b[43m \u001b[49m\u001b[43mtimeout\u001b[49m\u001b[38;5;241;43m=\u001b[39;49m\u001b[38;5;28;43mself\u001b[39;49m\u001b[38;5;241;43m.\u001b[39;49m\u001b[43m_connect_timeout\u001b[49m\u001b[43m,\u001b[49m\u001b[43m \u001b[49m\u001b[43msource_address\u001b[49m\u001b[38;5;241;43m=\u001b[39;49m\u001b[43msource\u001b[49m\u001b[43m,\u001b[49m\u001b[43m \u001b[49m\u001b[38;5;241;43m*\u001b[39;49m\u001b[38;5;241;43m*\u001b[39;49m\u001b[43mproxy\u001b[49m\u001b[43m)\u001b[49m\n\u001b[0;32m   4639\u001b[0m \u001b[38;5;28;01melse\u001b[39;00m:\n\u001b[0;32m   4640\u001b[0m     \u001b[38;5;28;01mreturn\u001b[39;00m socket\u001b[38;5;241m.\u001b[39mcreate_connection(addr, timeout\u001b[38;5;241m=\u001b[39m\u001b[38;5;28mself\u001b[39m\u001b[38;5;241m.\u001b[39m_connect_timeout, source_address\u001b[38;5;241m=\u001b[39msource)\n",
      "File \u001b[1;32mc:\\users\\lenovo\\appdata\\local\\programs\\python\\python38\\lib\\site-packages\\socks.py:209\u001b[0m, in \u001b[0;36mcreate_connection\u001b[1;34m(dest_pair, timeout, source_address, proxy_type, proxy_addr, proxy_port, proxy_rdns, proxy_username, proxy_password, socket_options)\u001b[0m\n\u001b[0;32m    206\u001b[0m             sock \u001b[38;5;241m=\u001b[39m \u001b[38;5;28;01mNone\u001b[39;00m\n\u001b[0;32m    208\u001b[0m \u001b[38;5;28;01mif\u001b[39;00m err:\n\u001b[1;32m--> 209\u001b[0m     \u001b[38;5;28;01mraise\u001b[39;00m err\n\u001b[0;32m    211\u001b[0m \u001b[38;5;28;01mraise\u001b[39;00m socket\u001b[38;5;241m.\u001b[39merror(\u001b[38;5;124m\"\u001b[39m\u001b[38;5;124mgai returned empty list.\u001b[39m\u001b[38;5;124m\"\u001b[39m)\n",
      "File \u001b[1;32mc:\\users\\lenovo\\appdata\\local\\programs\\python\\python38\\lib\\site-packages\\socks.py:199\u001b[0m, in \u001b[0;36mcreate_connection\u001b[1;34m(dest_pair, timeout, source_address, proxy_type, proxy_addr, proxy_port, proxy_rdns, proxy_username, proxy_password, socket_options)\u001b[0m\n\u001b[0;32m    196\u001b[0m     \u001b[38;5;28;01mif\u001b[39;00m source_address:\n\u001b[0;32m    197\u001b[0m         sock\u001b[38;5;241m.\u001b[39mbind(source_address)\n\u001b[1;32m--> 199\u001b[0m     \u001b[43msock\u001b[49m\u001b[38;5;241;43m.\u001b[39;49m\u001b[43mconnect\u001b[49m\u001b[43m(\u001b[49m\u001b[43m(\u001b[49m\u001b[43mremote_host\u001b[49m\u001b[43m,\u001b[49m\u001b[43m \u001b[49m\u001b[43mremote_port\u001b[49m\u001b[43m)\u001b[49m\u001b[43m)\u001b[49m\n\u001b[0;32m    200\u001b[0m     \u001b[38;5;28;01mreturn\u001b[39;00m sock\n\u001b[0;32m    202\u001b[0m \u001b[38;5;28;01mexcept\u001b[39;00m (socket\u001b[38;5;241m.\u001b[39merror, ProxyConnectionError) \u001b[38;5;28;01mas\u001b[39;00m e:\n",
      "File \u001b[1;32mc:\\users\\lenovo\\appdata\\local\\programs\\python\\python38\\lib\\site-packages\\socks.py:47\u001b[0m, in \u001b[0;36mset_self_blocking.<locals>.wrapper\u001b[1;34m(*args, **kwargs)\u001b[0m\n\u001b[0;32m     45\u001b[0m     \u001b[38;5;28;01mif\u001b[39;00m _is_blocking \u001b[38;5;241m==\u001b[39m \u001b[38;5;241m0\u001b[39m:\n\u001b[0;32m     46\u001b[0m         \u001b[38;5;28mself\u001b[39m\u001b[38;5;241m.\u001b[39msetblocking(\u001b[38;5;28;01mTrue\u001b[39;00m)\n\u001b[1;32m---> 47\u001b[0m     \u001b[38;5;28;01mreturn\u001b[39;00m \u001b[43mfunction\u001b[49m\u001b[43m(\u001b[49m\u001b[38;5;241;43m*\u001b[39;49m\u001b[43margs\u001b[49m\u001b[43m,\u001b[49m\u001b[43m \u001b[49m\u001b[38;5;241;43m*\u001b[39;49m\u001b[38;5;241;43m*\u001b[39;49m\u001b[43mkwargs\u001b[49m\u001b[43m)\u001b[49m\n\u001b[0;32m     48\u001b[0m \u001b[38;5;28;01mexcept\u001b[39;00m \u001b[38;5;167;01mException\u001b[39;00m \u001b[38;5;28;01mas\u001b[39;00m e:\n\u001b[0;32m     49\u001b[0m     \u001b[38;5;28;01mraise\u001b[39;00m\n",
      "File \u001b[1;32mc:\\users\\lenovo\\appdata\\local\\programs\\python\\python38\\lib\\site-packages\\socks.py:800\u001b[0m, in \u001b[0;36msocksocket.connect\u001b[1;34m(self, dest_pair, catch_errors)\u001b[0m\n\u001b[0;32m    797\u001b[0m     msg \u001b[38;5;241m=\u001b[39m \u001b[38;5;124m\"\u001b[39m\u001b[38;5;124mError connecting to \u001b[39m\u001b[38;5;132;01m{}\u001b[39;00m\u001b[38;5;124m proxy \u001b[39m\u001b[38;5;132;01m{}\u001b[39;00m\u001b[38;5;124m\"\u001b[39m\u001b[38;5;241m.\u001b[39mformat(printable_type,\n\u001b[0;32m    798\u001b[0m                                                         proxy_server)\n\u001b[0;32m    799\u001b[0m     log\u001b[38;5;241m.\u001b[39mdebug(\u001b[38;5;124m\"\u001b[39m\u001b[38;5;132;01m%s\u001b[39;00m\u001b[38;5;124m due to: \u001b[39m\u001b[38;5;132;01m%s\u001b[39;00m\u001b[38;5;124m\"\u001b[39m, msg, error)\n\u001b[1;32m--> 800\u001b[0m     \u001b[38;5;28;01mraise\u001b[39;00m ProxyConnectionError(msg, error)\n\u001b[0;32m    801\u001b[0m \u001b[38;5;28;01melse\u001b[39;00m:\n\u001b[0;32m    802\u001b[0m     \u001b[38;5;28;01mraise\u001b[39;00m error\n",
      "\u001b[1;31mProxyConnectionError\u001b[0m: Error connecting to HTTP proxy 192.168.10.13:8222: [WinError 10061] No connection could be made because the target machine actively refused it"
     ]
    }
   ],
   "source": [
    "import socks\n",
    "import socket\n",
    "client = mqtt.Client()    \n",
    "client.username_pw_set('username', 'password')\n",
    "# client.proxy_set(proxy_type=socks.PROXY_TYPE_HTTP, proxy_addr=\"192.168.10.13\", proxy_port=8222)\n",
    "socks.setdefaultproxy(socks.HTTP, '192.168.10.13', 8222)#\"socks.proxy.host\", 1080)\n",
    "socket.socket = socks.socksocket\n",
    "# connect\n",
    "client.connect('abc.com', port=8080, keepalive=60, bind_address=\"\")\n",
    "client.loop_forever()"
   ]
  },
  {
   "cell_type": "code",
   "execution_count": null,
   "id": "b32f9a11",
   "metadata": {},
   "outputs": [
    {
     "name": "stderr",
     "output_type": "stream",
     "text": [
      "C:\\Users\\Lenovo\\AppData\\Local\\Temp\\ipykernel_4000\\2798060928.py:4: DeprecationWarning: Callback API version 1 is deprecated, update to latest version\n",
      "  client = mqtt.Client()\n"
     ]
    },
    {
     "name": "stdout",
     "output_type": "stream",
     "text": [
      "Serving on port 8222\n"
     ]
    },
    {
     "name": "stderr",
     "output_type": "stream",
     "text": [
      "192.168.10.13 - - [27/Dec/2024 06:20:19] \"GET / HTTP/1.1\" 200 -\n"
     ]
    },
    {
     "name": "stdout",
     "output_type": "stream",
     "text": [
      "1 CN_CEP/SmartPlug btn11\n",
      "Button btn1 state: true\n",
      "1 CN_CEP/SmartPlug btn11\n",
      "Button btn1 state: true\n",
      "0 CN_CEP/SmartPlug btn10\n",
      "Button btn1 state: false\n"
     ]
    },
    {
     "name": "stderr",
     "output_type": "stream",
     "text": [
      "192.168.10.13 - - [27/Dec/2024 06:20:42] code 501, message Unsupported method ('CONNECT')\n",
      "192.168.10.13 - - [27/Dec/2024 06:20:42] \"CONNECT abc.com:8080 HTTP/1.1\" 501 -\n",
      "192.168.10.13 - - [27/Dec/2024 06:20:47] code 501, message Unsupported method ('CONNECT')\n",
      "192.168.10.13 - - [27/Dec/2024 06:20:47] \"CONNECT abc.com:8080 HTTP/1.1\" 501 -\n",
      "192.168.10.13 - - [27/Dec/2024 06:20:48] code 501, message Unsupported method ('CONNECT')\n",
      "192.168.10.13 - - [27/Dec/2024 06:20:48] \"CONNECT broker.hivemq.com:1883 HTTP/1.1\" 501 -\n",
      "192.168.10.13 - - [27/Dec/2024 06:21:33] code 501, message Unsupported method ('CONNECT')\n",
      "192.168.10.13 - - [27/Dec/2024 06:21:33] \"CONNECT abc.com:8081 HTTP/1.1\" 501 -\n",
      "192.168.10.13 - - [27/Dec/2024 06:21:45] code 501, message Unsupported method ('CONNECT')\n",
      "192.168.10.13 - - [27/Dec/2024 06:21:45] \"CONNECT abc.com:1883 HTTP/1.1\" 501 -\n",
      "192.168.10.13 - - [27/Dec/2024 06:22:10] code 501, message Unsupported method ('CONNECT')\n",
      "192.168.10.13 - - [27/Dec/2024 06:22:10] \"CONNECT abc.com:80 HTTP/1.1\" 501 -\n",
      "192.168.10.13 - - [27/Dec/2024 06:23:59] code 501, message Unsupported method ('CONNECT')\n",
      "192.168.10.13 - - [27/Dec/2024 06:23:59] \"CONNECT abc.com:80 HTTP/1.1\" 501 -\n",
      "192.168.10.13 - - [27/Dec/2024 06:25:04] code 501, message Unsupported method ('CONNECT')\n",
      "192.168.10.13 - - [27/Dec/2024 06:25:04] \"CONNECT abc.com:80 HTTP/1.1\" 501 -\n",
      "192.168.10.13 - - [27/Dec/2024 06:25:32] code 501, message Unsupported method ('CONNECT')\n",
      "192.168.10.13 - - [27/Dec/2024 06:25:32] \"CONNECT abc.com:1883 HTTP/1.1\" 501 -\n",
      "192.168.10.13 - - [27/Dec/2024 06:26:33] \"GET / HTTP/1.1\" 200 -\n",
      "192.168.10.13 - - [27/Dec/2024 06:26:35] \"GET / HTTP/1.1\" 200 -\n"
     ]
    },
    {
     "name": "stdout",
     "output_type": "stream",
     "text": [
      "1 CN_CEP/SmartPlug btn11\n",
      "Button btn1 state: true\n",
      "0 CN_CEP/SmartPlug btn10\n",
      "Button btn1 state: false\n"
     ]
    },
    {
     "name": "stderr",
     "output_type": "stream",
     "text": [
      "192.168.10.13 - - [27/Dec/2024 06:27:26] code 501, message Unsupported method ('CONNECT')\n",
      "192.168.10.13 - - [27/Dec/2024 06:27:26] \"CONNECT cep.cn:80 HTTP/1.1\" 501 -\n",
      "192.168.10.13 - - [27/Dec/2024 06:30:19] code 501, message Unsupported method ('CONNECT')\n",
      "192.168.10.13 - - [27/Dec/2024 06:30:19] \"CONNECT cep.cn:80 HTTP/1.1\" 501 -\n",
      "192.168.10.13 - - [27/Dec/2024 06:30:37] code 501, message Unsupported method ('CONNECT')\n",
      "192.168.10.13 - - [27/Dec/2024 06:30:37] \"CONNECT cep.cn:80 HTTP/1.1\" 501 -\n",
      "192.168.10.13 - - [27/Dec/2024 06:32:38] \"GET / HTTP/1.1\" 200 -\n",
      "192.168.10.13 - - [27/Dec/2024 06:32:39] \"GET / HTTP/1.1\" 200 -\n"
     ]
    },
    {
     "name": "stdout",
     "output_type": "stream",
     "text": [
      "1 CN_CEP/SmartPlug btn11\n",
      "Button btn1 state: true\n",
      "0 CN_CEP/SmartPlug btn10\n",
      "Button btn1 state: false\n"
     ]
    },
    {
     "name": "stderr",
     "output_type": "stream",
     "text": [
      "192.168.10.13 - - [27/Dec/2024 06:34:45] code 501, message Unsupported method ('CONNECT')\n",
      "192.168.10.13 - - [27/Dec/2024 06:34:45] \"CONNECT cep_smartplug.cn:80 HTTP/1.1\" 501 -\n"
     ]
    }
   ],
   "source": [
    "broker_address = \"broker.hivemq.com\" # Free Available MQTT Broker\n",
    "broker_port = 1883 # MQTT Default Port Number\n",
    "\n",
    "client = mqtt.Client()\n",
    "client.connect(broker_address, broker_port, 60) # 60s = Keep Alive interval is the duration to wait for ACK before retransmission. \n",
    "\n",
    "class MyHandler(SimpleHTTPRequestHandler):\n",
    "    def do_GET(self):\n",
    "        if self.path == '/':\n",
    "            self.send_response(200)\n",
    "            self.send_header('Content-type', 'text/html')\n",
    "            self.end_headers()\n",
    "\n",
    "            if pre_state[f'btn1']:\n",
    "                button = (f\"\"\"\n",
    "                        <div class=\"form-check form-switchmx-auto\">\n",
    "                          <input id=\"btn1\" onclick=\"buttonClicked('btn1')\" class=\"form-check-input\" checked type=\"checkbox\" style=\"width: 9em; height: 3em;\">\n",
    "                        </div>\n",
    "                        \"\"\")\n",
    "            else:\n",
    "                button = (f\"\"\"\n",
    "                        <div class=\"form-check form-switchmx-auto\">\n",
    "                          <input id=\"btn1\" onclick=\"buttonClicked('btn1')\" class=\"form-check-input\" type=\"checkbox\" style=\"width: 9em; height:3em;\">\n",
    "                        </div>\n",
    "                        \"\"\")\n",
    "\n",
    "            html_content = \"\"\"\n",
    "            <!DOCTYPE html>\n",
    "            <html lang=\"en\">\n",
    "            \n",
    "            <head>\n",
    "              <meta charset=\"UTF-8\">\n",
    "              <meta name=\"viewport\" content=\"width=device-width, initial-scale=1.0\">\n",
    "              <title>Smart Plug</title>\n",
    "              <link href=\"https://cdn.jsdelivr.net/npm/bootstrap@5.3.1/dist/css/bootstrap.min.css\" rel=\"stylesheet\"\n",
    "              integrity=\"sha384-4bw+/aepP/YC94hEpVNVgiZdgIC5+VKNBQNGCHeKRQN+PtmoHDEXuppvnDJzQIu9\" crossorigin=\"anonymous\">\n",
    "            </head>\n",
    "            <body>\n",
    "\n",
    "            <div class=\"container text-center\">\n",
    "              <br/>\n",
    "              <h2><strong>Smart Plug</strong></h2>\n",
    "              <div class=\"text-center\">\n",
    "                <br/>\n",
    "                <h5>Toggle the button to control the switch:</h5>\n",
    "                <br/><br/>\n",
    "                <div>\n",
    "                  \"\"\" + button + \"\"\"\n",
    "                </div>\n",
    "              </div>\n",
    "            </div>\n",
    "\n",
    "            <script>\n",
    "              function buttonClicked(buttonId) {\n",
    "                var checkbox = document.getElementById(buttonId);\n",
    "                var xhr = new XMLHttpRequest();\n",
    "                xhr.open(\"GET\", \"/\" + buttonId + \",\" + checkbox.checked,true);\n",
    "                xhr.send();\n",
    "              }\n",
    "            </script>\n",
    "\n",
    "            <script\n",
    "              src=\"https://cdn.jsdelivr.net/npm/bootstrap@5.3.1/dist/js/bootstrap.bundle.min.js\"\n",
    "              integrity=\"sha384-HwwvtgBNo3bZJJLYd8oVXjrBZt8cqVSpeBNS5n7C8IVInixGAoxmnlMuBnhbgrkm\" crossorigin=\"anonymous\">\n",
    "            </script>\n",
    "\n",
    "            </body>\n",
    "            </html>\n",
    "            \"\"\"\n",
    "            self.wfile.write(html_content.encode())\n",
    "            \n",
    "        else:\n",
    "            button_id = self.path[1:] # Remove the leading '/'\n",
    "            self.handle_button_click(button_id)\n",
    "\n",
    "    def handle_button_click(self, btn_id):\n",
    "        if btn_id[:3] == 'btn':\n",
    "            btn, state = btn_id.split(',')\n",
    "            s = 0\n",
    "            pre_state[btn] = False\n",
    "            if state == 'true':\n",
    "                pre_state[btn] = True\n",
    "                s = 1\n",
    "            with open('states.json', 'w') as file:\n",
    "                file.write(json.dumps(pre_state))\n",
    "\n",
    "            topic = \"CN_CEP/SmartPlug\"\n",
    "            message = f\"{btn}{s}\"\n",
    "            \n",
    "            print(s, topic, message)\n",
    "            client.publish(topic, message)\n",
    "            print(f\"Button {btn} state: {state}\")\n",
    "            \n",
    "if __name__ == \"__main__\":\n",
    "    PORT = 8222\n",
    "    \n",
    "    if not os.path.isfile('states.json'): # Make json file to save pre_state of switch, if not exists\n",
    "        pre_state = {\"btn1\": False} # Switch off by default\n",
    "        with open('states.json', 'w') as file:\n",
    "            file.write(json.dumps(pre_state))\n",
    "    else: # Loads pre_state from existing json file\n",
    "        with open('states.json') as file: \n",
    "            pre_state = json.loads(file.read())\n",
    "            \n",
    "    with TCPServer((\"192.168.10.13\", PORT), MyHandler) as httpd:\n",
    "        print(f\"Serving on port {PORT}\")\n",
    "        httpd.serve_forever()"
   ]
  },
  {
   "cell_type": "markdown",
   "id": "13ea46b7",
   "metadata": {},
   "source": [
    "# DNSServer"
   ]
  },
  {
   "cell_type": "code",
   "execution_count": 23,
   "id": "7964b8a3",
   "metadata": {},
   "outputs": [],
   "source": [
    "from http.server import SimpleHTTPRequestHandler\n",
    "from dnslib.server import DNSServer\n",
    "import json\n",
    "import paho.mqtt.client as mqtt\n",
    "import time\n",
    "import os\n",
    "\n",
    "from dns.resolver import Resolver\n"
   ]
  },
  {
   "cell_type": "code",
   "execution_count": 24,
   "id": "3ca51a9a",
   "metadata": {},
   "outputs": [
    {
     "name": "stderr",
     "output_type": "stream",
     "text": [
      "C:\\Users\\Lenovo\\AppData\\Local\\Temp\\ipykernel_35400\\3530774292.py:4: DeprecationWarning: Callback API version 1 is deprecated, update to latest version\n",
      "  client = mqtt.Client()\n"
     ]
    },
    {
     "name": "stdout",
     "output_type": "stream",
     "text": [
      "True\n"
     ]
    }
   ],
   "source": [
    "broker_address = \"broker.hivemq.com\" # Free Available MQTT Broker\n",
    "broker_port = 1883 # MQTT Default Port Number\n",
    "\n",
    "client = mqtt.Client()\n",
    "client.connect(broker_address, broker_port, 60) # 60s = Keep Alive interval is the duration to wait for ACK before retransmission. \n",
    "\n",
    "class MyHandler(SimpleHTTPRequestHandler):\n",
    "    def do_GET(self):\n",
    "        if self.path == '/':\n",
    "            self.send_response(200)\n",
    "            self.send_header('Content-type', 'text/html')\n",
    "            self.end_headers()\n",
    "\n",
    "            if pre_state[f'btn1']:\n",
    "                button = (f\"\"\"\n",
    "                        <div class=\"form-check form-switchmx-auto\">\n",
    "                          <input id=\"btn1\" onclick=\"buttonClicked('btn1')\" class=\"form-check-input\" checked type=\"checkbox\" style=\"width: 9em; height: 3em;\">\n",
    "                        </div>\n",
    "                        \"\"\")\n",
    "            else:\n",
    "                button = (f\"\"\"\n",
    "                        <div class=\"form-check form-switchmx-auto\">\n",
    "                          <input id=\"btn1\" onclick=\"buttonClicked('btn1')\" class=\"form-check-input\" type=\"checkbox\" style=\"width: 9em; height:3em;\">\n",
    "                        </div>\n",
    "                        \"\"\")\n",
    "\n",
    "            html_content = \"\"\"\n",
    "            <!DOCTYPE html>\n",
    "            <html lang=\"en\">\n",
    "            \n",
    "            <head>\n",
    "              <meta charset=\"UTF-8\">\n",
    "              <meta name=\"viewport\" content=\"width=device-width, initial-scale=1.0\">\n",
    "              <title>Smart Plug</title>\n",
    "              <link href=\"https://cdn.jsdelivr.net/npm/bootstrap@5.3.1/dist/css/bootstrap.min.css\" rel=\"stylesheet\"\n",
    "              integrity=\"sha384-4bw+/aepP/YC94hEpVNVgiZdgIC5+VKNBQNGCHeKRQN+PtmoHDEXuppvnDJzQIu9\" crossorigin=\"anonymous\">\n",
    "            </head>\n",
    "            <body>\n",
    "\n",
    "            <div class=\"container text-center\">\n",
    "              <br/>\n",
    "              <h2><strong>Smart Plug</strong></h2>\n",
    "              <div class=\"text-center\">\n",
    "                <br/>\n",
    "                <h5>Toggle the button to control the switch:</h5>\n",
    "                <br/><br/>\n",
    "                <div>\n",
    "                  \"\"\" + button + \"\"\"\n",
    "                </div>\n",
    "              </div>\n",
    "            </div>\n",
    "\n",
    "            <script>\n",
    "              function buttonClicked(buttonId) {\n",
    "                var checkbox = document.getElementById(buttonId);\n",
    "                var xhr = new XMLHttpRequest();\n",
    "                xhr.open(\"GET\", \"/\" + buttonId + \",\" + checkbox.checked,true);\n",
    "                xhr.send();\n",
    "              }\n",
    "            </script>\n",
    "\n",
    "            <script\n",
    "              src=\"https://cdn.jsdelivr.net/npm/bootstrap@5.3.1/dist/js/bootstrap.bundle.min.js\"\n",
    "              integrity=\"sha384-HwwvtgBNo3bZJJLYd8oVXjrBZt8cqVSpeBNS5n7C8IVInixGAoxmnlMuBnhbgrkm\" crossorigin=\"anonymous\">\n",
    "            </script>\n",
    "\n",
    "            </body>\n",
    "            </html>\n",
    "            \"\"\"\n",
    "            self.wfile.write(html_content.encode())\n",
    "            \n",
    "        else:\n",
    "            button_id = self.path[1:] # Remove the leading '/'\n",
    "            self.handle_button_click(button_id)\n",
    "\n",
    "    def handle_button_click(self, btn_id):\n",
    "        if btn_id[:3] == 'btn':\n",
    "            btn, state = btn_id.split(',')\n",
    "            s = 0\n",
    "            pre_state[btn] = False\n",
    "            if state == 'true':\n",
    "                pre_state[btn] = True\n",
    "                s = 1\n",
    "            with open('states.json', 'w') as file:\n",
    "                file.write(json.dumps(pre_state))\n",
    "\n",
    "            topic = \"CN/CEP\"\n",
    "            message = f\"{btn}{s}\"\n",
    "            \n",
    "            client.publish(topic, message)\n",
    "            print(f\"Button {btn} state: {state}\")\n",
    "            \n",
    "if __name__ == \"__main__\":\n",
    "    PORT = 8011\n",
    "    \n",
    "    if not os.path.isfile('states.json'): # Make json file to save pre_state of switch, if not exists\n",
    "        pre_state = {\"btn1\": False} # Switch off by default\n",
    "        with open('states.json', 'w') as file:\n",
    "            file.write(json.dumps(pre_state))\n",
    "    else: # Loads pre_state from existing json file\n",
    "        with open('states.json') as file: \n",
    "            pre_state = json.loads(file.read())\n",
    "\n",
    "    resolver = Resolver()\n",
    "    resolver.nameservers = ['8.8.8.8']\n",
    "    \n",
    "    server = DNSServer(resolver, address=\"localhost\", port=PORT)\n",
    "#     MyHandler\n",
    "    server.start_thread()\n",
    "    print( server.isAlive() )\n",
    "#     while server.is_running:\n",
    "#         # this just keeps the thing alive...\n",
    "#         time.sleep(5)\n",
    "#     server.stop()"
   ]
  },
  {
   "cell_type": "code",
   "execution_count": 12,
   "id": "9c2ce5fc",
   "metadata": {},
   "outputs": [
    {
     "name": "stdout",
     "output_type": "stream",
     "text": [
      ";; ->>HEADER<<- opcode: QUERY, status: NOERROR, id: 30164\n",
      ";; flags: qr aa rd ra; QUERY: 1, ANSWER: 1, AUTHORITY: 0, ADDITIONAL: 0\n",
      ";; QUESTION SECTION:\n",
      ";smartplug.cncep.               IN      A\n",
      ";; ANSWER SECTION:\n",
      "smartplug.cncep.        0       IN      A       192.168.10.13\n"
     ]
    }
   ],
   "source": [
    "from dnslib.dns import DNSRecord\n",
    "\n",
    "q = DNSRecord.question(\"smartplug.cncep\")\n",
    "a = q.reply()\n",
    "a.add_answer(*RR.fromZone(\"smartplug.cncep A 192.168.10.13\"))\n",
    "\n",
    "print(a)\n"
   ]
  },
  {
   "cell_type": "code",
   "execution_count": 1,
   "id": "3e438ce6",
   "metadata": {},
   "outputs": [
    {
     "ename": "OSError",
     "evalue": "[WinError 10049] The requested address is not valid in its context",
     "output_type": "error",
     "traceback": [
      "\u001b[1;31m---------------------------------------------------------------------------\u001b[0m",
      "\u001b[1;31mOSError\u001b[0m                                   Traceback (most recent call last)",
      "Input \u001b[1;32mIn [1]\u001b[0m, in \u001b[0;36m<cell line: 10>\u001b[1;34m()\u001b[0m\n\u001b[0;32m      8\u001b[0m resolver \u001b[38;5;241m=\u001b[39m TestResolver()\n\u001b[0;32m      9\u001b[0m logger \u001b[38;5;241m=\u001b[39m DNSLogger(prefix\u001b[38;5;241m=\u001b[39m\u001b[38;5;28;01mFalse\u001b[39;00m)\n\u001b[1;32m---> 10\u001b[0m server \u001b[38;5;241m=\u001b[39m \u001b[43mDNSServer\u001b[49m\u001b[43m(\u001b[49m\u001b[43mresolver\u001b[49m\u001b[43m,\u001b[49m\u001b[43m \u001b[49m\u001b[43mport\u001b[49m\u001b[38;5;241;43m=\u001b[39;49m\u001b[38;5;241;43m8222\u001b[39;49m\u001b[43m,\u001b[49m\u001b[43m \u001b[49m\u001b[43maddress\u001b[49m\u001b[38;5;241;43m=\u001b[39;49m\u001b[38;5;124;43m\"\u001b[39;49m\u001b[38;5;124;43m192.168.10.6\u001b[39;49m\u001b[38;5;124;43m\"\u001b[39;49m\u001b[43m,\u001b[49m\u001b[43m \u001b[49m\u001b[43mlogger\u001b[49m\u001b[38;5;241;43m=\u001b[39;49m\u001b[43mlogger\u001b[49m\u001b[43m,\u001b[49m\u001b[43m \u001b[49m\u001b[43mtcp\u001b[49m\u001b[38;5;241;43m=\u001b[39;49m\u001b[38;5;28;43;01mTrue\u001b[39;49;00m\u001b[43m)\u001b[49m\n\u001b[0;32m     11\u001b[0m server\u001b[38;5;241m.\u001b[39mstart_thread()\n\u001b[0;32m     12\u001b[0m a \u001b[38;5;241m=\u001b[39m q\u001b[38;5;241m.\u001b[39msend(\u001b[38;5;124m\"\u001b[39m\u001b[38;5;124m192.168.10.6\u001b[39m\u001b[38;5;124m\"\u001b[39m, \u001b[38;5;241m8222\u001b[39m, tcp\u001b[38;5;241m=\u001b[39m\u001b[38;5;28;01mTrue\u001b[39;00m)\n",
      "File \u001b[1;32mc:\\users\\lenovo\\appdata\\local\\programs\\python\\python38\\lib\\site-packages\\dnslib\\server.py:380\u001b[0m, in \u001b[0;36mDNSServer.__init__\u001b[1;34m(self, resolver, address, port, tcp, logger, handler, server)\u001b[0m\n\u001b[0;32m    378\u001b[0m     \u001b[38;5;28;01melse\u001b[39;00m:\n\u001b[0;32m    379\u001b[0m         server \u001b[38;5;241m=\u001b[39m UDPServer\n\u001b[1;32m--> 380\u001b[0m \u001b[38;5;28mself\u001b[39m\u001b[38;5;241m.\u001b[39mserver \u001b[38;5;241m=\u001b[39m \u001b[43mserver\u001b[49m\u001b[43m(\u001b[49m\u001b[43m(\u001b[49m\u001b[43maddress\u001b[49m\u001b[43m,\u001b[49m\u001b[43mport\u001b[49m\u001b[43m)\u001b[49m\u001b[43m,\u001b[49m\u001b[43mhandler\u001b[49m\u001b[43m)\u001b[49m\n\u001b[0;32m    381\u001b[0m \u001b[38;5;28mself\u001b[39m\u001b[38;5;241m.\u001b[39mserver\u001b[38;5;241m.\u001b[39mresolver \u001b[38;5;241m=\u001b[39m resolver\n\u001b[0;32m    382\u001b[0m \u001b[38;5;28mself\u001b[39m\u001b[38;5;241m.\u001b[39mserver\u001b[38;5;241m.\u001b[39mlogger \u001b[38;5;241m=\u001b[39m logger \u001b[38;5;129;01mor\u001b[39;00m DNSLogger()\n",
      "File \u001b[1;32mc:\\users\\lenovo\\appdata\\local\\programs\\python\\python38\\lib\\site-packages\\dnslib\\server.py:343\u001b[0m, in \u001b[0;36mTCPServer.__init__\u001b[1;34m(self, server_address, handler)\u001b[0m\n\u001b[0;32m    341\u001b[0m \u001b[38;5;28;01mif\u001b[39;00m server_address[\u001b[38;5;241m0\u001b[39m] \u001b[38;5;241m!=\u001b[39m \u001b[38;5;124m'\u001b[39m\u001b[38;5;124m'\u001b[39m \u001b[38;5;129;01mand\u001b[39;00m \u001b[38;5;124m'\u001b[39m\u001b[38;5;124m:\u001b[39m\u001b[38;5;124m'\u001b[39m \u001b[38;5;129;01min\u001b[39;00m server_address[\u001b[38;5;241m0\u001b[39m]:\n\u001b[0;32m    342\u001b[0m     \u001b[38;5;28mself\u001b[39m\u001b[38;5;241m.\u001b[39maddress_family \u001b[38;5;241m=\u001b[39m socket\u001b[38;5;241m.\u001b[39mAF_INET6\n\u001b[1;32m--> 343\u001b[0m \u001b[38;5;28;43msuper\u001b[39;49m\u001b[43m(\u001b[49m\u001b[43mTCPServer\u001b[49m\u001b[43m,\u001b[49m\u001b[38;5;28;43mself\u001b[39;49m\u001b[43m)\u001b[49m\u001b[38;5;241;43m.\u001b[39;49m\u001b[38;5;21;43m__init__\u001b[39;49m\u001b[43m(\u001b[49m\u001b[43mserver_address\u001b[49m\u001b[43m,\u001b[49m\u001b[43m \u001b[49m\u001b[43mhandler\u001b[49m\u001b[43m)\u001b[49m\n",
      "File \u001b[1;32mc:\\users\\lenovo\\appdata\\local\\programs\\python\\python38\\lib\\socketserver.py:452\u001b[0m, in \u001b[0;36mTCPServer.__init__\u001b[1;34m(self, server_address, RequestHandlerClass, bind_and_activate)\u001b[0m\n\u001b[0;32m    450\u001b[0m \u001b[38;5;28;01mif\u001b[39;00m bind_and_activate:\n\u001b[0;32m    451\u001b[0m     \u001b[38;5;28;01mtry\u001b[39;00m:\n\u001b[1;32m--> 452\u001b[0m         \u001b[38;5;28;43mself\u001b[39;49m\u001b[38;5;241;43m.\u001b[39;49m\u001b[43mserver_bind\u001b[49m\u001b[43m(\u001b[49m\u001b[43m)\u001b[49m\n\u001b[0;32m    453\u001b[0m         \u001b[38;5;28mself\u001b[39m\u001b[38;5;241m.\u001b[39mserver_activate()\n\u001b[0;32m    454\u001b[0m     \u001b[38;5;28;01mexcept\u001b[39;00m:\n",
      "File \u001b[1;32mc:\\users\\lenovo\\appdata\\local\\programs\\python\\python38\\lib\\socketserver.py:466\u001b[0m, in \u001b[0;36mTCPServer.server_bind\u001b[1;34m(self)\u001b[0m\n\u001b[0;32m    464\u001b[0m \u001b[38;5;28;01mif\u001b[39;00m \u001b[38;5;28mself\u001b[39m\u001b[38;5;241m.\u001b[39mallow_reuse_address:\n\u001b[0;32m    465\u001b[0m     \u001b[38;5;28mself\u001b[39m\u001b[38;5;241m.\u001b[39msocket\u001b[38;5;241m.\u001b[39msetsockopt(socket\u001b[38;5;241m.\u001b[39mSOL_SOCKET, socket\u001b[38;5;241m.\u001b[39mSO_REUSEADDR, \u001b[38;5;241m1\u001b[39m)\n\u001b[1;32m--> 466\u001b[0m \u001b[38;5;28;43mself\u001b[39;49m\u001b[38;5;241;43m.\u001b[39;49m\u001b[43msocket\u001b[49m\u001b[38;5;241;43m.\u001b[39;49m\u001b[43mbind\u001b[49m\u001b[43m(\u001b[49m\u001b[38;5;28;43mself\u001b[39;49m\u001b[38;5;241;43m.\u001b[39;49m\u001b[43mserver_address\u001b[49m\u001b[43m)\u001b[49m\n\u001b[0;32m    467\u001b[0m \u001b[38;5;28mself\u001b[39m\u001b[38;5;241m.\u001b[39mserver_address \u001b[38;5;241m=\u001b[39m \u001b[38;5;28mself\u001b[39m\u001b[38;5;241m.\u001b[39msocket\u001b[38;5;241m.\u001b[39mgetsockname()\n",
      "\u001b[1;31mOSError\u001b[0m: [WinError 10049] The requested address is not valid in its context"
     ]
    }
   ],
   "source": [
    "from dnslib.server import DNSServer, DNSLogger\n",
    "from dnslib.dns import RR\n",
    "\n",
    "class TestResolver:\n",
    "    def resolve(self, request, handler):\n",
    "        reply = request.reply()\n",
    "        reply.add_answer(*RR.fromZone(\"abc.def. 60 A 1.2.3.4\"))\n",
    "        return reply\n",
    "    \n",
    "resolver = TestResolver()\n",
    "logger = DNSLogger(prefix=False)\n",
    "server = DNSServer(resolver, port=8222, address=\"192.168.10.6\", logger=logger, tcp=True)\n",
    "server.start_thread()\n",
    "a = q.send(\"192.168.10.6\", 8222, tcp=True)\n",
    "\n",
    "print(DNSRecord.parse(a))\n",
    "\n",
    "server.stop()"
   ]
  },
  {
   "cell_type": "markdown",
   "id": "1346f5ac",
   "metadata": {},
   "source": [
    "# Base"
   ]
  },
  {
   "cell_type": "code",
   "execution_count": null,
   "id": "5c44b069",
   "metadata": {},
   "outputs": [
    {
     "name": "stderr",
     "output_type": "stream",
     "text": [
      "C:\\Users\\Lenovo\\AppData\\Local\\Temp\\ipykernel_33112\\883578377.py:12: DeprecationWarning: Callback API version 1 is deprecated, update to latest version\n",
      "  client = mqtt.Client()\n"
     ]
    },
    {
     "name": "stdout",
     "output_type": "stream",
     "text": [
      "Serving on port 8011\n"
     ]
    },
    {
     "name": "stderr",
     "output_type": "stream",
     "text": [
      "127.0.0.1 - - [25/Dec/2024 09:30:44] \"GET / HTTP/1.1\" 200 -\n"
     ]
    },
    {
     "name": "stdout",
     "output_type": "stream",
     "text": [
      "favicon.ico\n",
      "favicon.ico\n"
     ]
    },
    {
     "name": "stderr",
     "output_type": "stream",
     "text": [
      "127.0.0.1 - - [25/Dec/2024 09:30:58] \"GET / HTTP/1.1\" 200 -\n"
     ]
    },
    {
     "name": "stdout",
     "output_type": "stream",
     "text": [
      "favicon.ico\n",
      "favicon.ico\n"
     ]
    },
    {
     "name": "stderr",
     "output_type": "stream",
     "text": [
      "127.0.0.1 - - [25/Dec/2024 09:31:01] \"GET / HTTP/1.1\" 200 -\n"
     ]
    },
    {
     "name": "stdout",
     "output_type": "stream",
     "text": [
      "favicon.ico\n",
      "favicon.ico\n",
      "btn1,false\n",
      "Button 1 state: false\n",
      "btn1,true\n",
      "Button 1 state: true\n",
      "btn1,true\n",
      "Button 1 state: true\n"
     ]
    }
   ],
   "source": [
    "from http.server import SimpleHTTPRequestHandler\n",
    "from socketserver import TCPServer\n",
    "import json\n",
    "import paho.mqtt.client as mqtt\n",
    "import time\n",
    "import os\n",
    "\n",
    "broker_address = \"broker.hivemq.com\"\n",
    "broker_port = 1883\n",
    "N = 1 # Number of buttons\n",
    "\n",
    "client = mqtt.Client()\n",
    "\n",
    "client.connect(broker_address, broker_port, 60)\n",
    "class MyHandler(SimpleHTTPRequestHandler):\n",
    "    def do_GET(self):\n",
    "        if self.path == '/':\n",
    "            self.send_response(200)\n",
    "            self.send_header('Content-type', 'text/html')\n",
    "            self.end_headers()\n",
    "            btns = []\n",
    "            for i in range(1, N+1):\n",
    "                if pre_state[f'btn{i}']:\n",
    "                    btns.append(f\"\"\"<div class=\"form-check form-switch\n",
    "                    mx-auto\"><input id=\"btn{i}\" onclick=\"buttonClicked('btn{i}')\"\n",
    "                    class=\"form-check-input\" checked type=\"checkbox\" style=\"width: 9em;\n",
    "                    height: 3em;\"></div>\"\"\")\n",
    "                else:\n",
    "                    btns.append(f\"\"\"<div class=\"form-check form-switch\n",
    "                    mx-auto\"><input id=\"btn{i}\" onclick=\"buttonClicked('btn{i}')\"\n",
    "                    class=\"form-check-input\" type=\"checkbox\" style=\"width: 9em; height:\n",
    "                    3em;\"></div>\"\"\")\n",
    "            html_content = \"\"\"9\n",
    "            <!DOCTYPE html>\n",
    "            <html lang=\"en\">\n",
    "            <head>\n",
    "            <meta charset=\"UTF-8\">\n",
    "            <meta name=\"viewport\" content=\"width=device-width,\n",
    "            initial-scale=1.0\">\n",
    "            <title>Smart Plug</title>\n",
    "            <link\n",
    "            href=\"https://cdn.jsdelivr.net/npm/bootstrap@5.3.1/dist/css/bootstrap.mi\n",
    "            n.css\" rel=\"stylesheet\"\n",
    "            integrity=\"sha384-4bw+/aepP/YC94hEpVNVgiZdgIC5+VKNBQNGCHeKRQN+PtmoHDEXup\n",
    "            pvnDJzQIu9\" crossorigin=\"anonymous\">\n",
    "            </head>\n",
    "            <body>\n",
    "            <nav class=\"navbar navbar-expand-lg bg-dark border-bottom\n",
    "            border-body text-center\" data-bs-theme=\"dark\">\n",
    "            <div class=\"container text-center\">\n",
    "            <a>.</a>\n",
    "            </div>\n",
    "            </nav>\n",
    "            <div class=\"container text-center\">\n",
    "            <br/>\n",
    "            <h2><strong> Welcome to Fahad's Smart Plug</strong></h2>\n",
    "            <div class=\"text-center\">\n",
    "            <br/>\n",
    "            <h5>Toggle a button to control the corresponding\n",
    "            appliance:</h5>\n",
    "            <br/>\n",
    "            <br/>\n",
    "            <div class=\"row gap-3 justify-content-center\">\n",
    "            \"\"\" + \"\\n\".join(btns) + \"\"\"\n",
    "            </div>\n",
    "            </div>\n",
    "            </div>\n",
    "            <script>\n",
    "            function buttonClicked(buttonId) {\n",
    "            var checkbox = document.getElementById(buttonId);\n",
    "            var xhr = new XMLHttpRequest();10\n",
    "            xhr.open(\"GET\", \"/\" + buttonId + \",\" + checkbox.checked,\n",
    "            true);\n",
    "            xhr.send();\n",
    "            }\n",
    "            </script>\n",
    "            <script\n",
    "            src=\"https://cdn.jsdelivr.net/npm/bootstrap@5.3.1/dist/js/bootstrap.bund\n",
    "            le.min.js\"\n",
    "            integrity=\"sha384-HwwvtgBNo3bZJJLYd8oVXjrBZt8cqVSpeBNS5n7C8IVInixGAoxmnl\n",
    "            MuBnhbgrkm\" crossorigin=\"anonymous\"></script>\n",
    "            </body>\n",
    "            </html>\n",
    "            \"\"\"\n",
    "            self.wfile.write(html_content.encode())\n",
    "        else:\n",
    "            button_id = self.path[1:] # Remove the leading '/'\n",
    "            print(button_id)\n",
    "            self.handle_button_click(button_id)\n",
    "    def handle_button_click(self, btn_id):\n",
    "        if btn_id[:3] == 'btn':\n",
    "            btn, state = btn_id.split(',')\n",
    "            s = 0\n",
    "            pre_state[btn] = False\n",
    "            if state == 'true':\n",
    "                pre_state[btn] = True\n",
    "                s = 1\n",
    "            with open('states.json', 'w') as file:\n",
    "                file.write(json.dumps(pre_state))\n",
    "            topic = \"CN/CEP\"\n",
    "            message = f\"{btn[-1]}{s}\"\n",
    "            client.publish(topic, message)\n",
    "            print(f\"Button {btn[-1]} state: {state}\")\n",
    "            \n",
    "if __name__ == \"__main__\":\n",
    "    PORT = 8011\n",
    "    if not os.path.isfile('states.json'):\n",
    "        pre_state = {f\"btn{i+1}\": False for i in range(N)}\n",
    "        with open('states.json', 'w') as file:\n",
    "            file.write(json.dumps(pre_state))\n",
    "    else:\n",
    "        with open('states.json') as file:\n",
    "            pre_state = json.loads(file.read())\n",
    "    with TCPServer((\"localhost\", PORT), MyHandler) as httpd:\n",
    "        print(f\"Serving on port {PORT}\")\n",
    "        httpd.serve_forever()"
   ]
  },
  {
   "cell_type": "code",
   "execution_count": null,
   "id": "0f89e276",
   "metadata": {},
   "outputs": [],
   "source": []
  }
 ],
 "metadata": {
  "kernelspec": {
   "display_name": "Python 3 (ipykernel)",
   "language": "python",
   "name": "python3"
  },
  "language_info": {
   "codemirror_mode": {
    "name": "ipython",
    "version": 3
   },
   "file_extension": ".py",
   "mimetype": "text/x-python",
   "name": "python",
   "nbconvert_exporter": "python",
   "pygments_lexer": "ipython3",
   "version": "3.8.10"
  }
 },
 "nbformat": 4,
 "nbformat_minor": 5
}
